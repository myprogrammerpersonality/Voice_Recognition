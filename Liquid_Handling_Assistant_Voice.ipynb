{
  "nbformat": 4,
  "nbformat_minor": 0,
  "metadata": {
    "colab": {
      "name": "My_Try_Stream v4.1.ipynb",
      "provenance": []
    },
    "kernelspec": {
      "name": "python3",
      "display_name": "Python 3"
    }
  },
  "cells": [
    {
      "cell_type": "markdown",
      "metadata": {
        "id": "tuMCRm56ml43"
      },
      "source": [
        "## Installing Required Packages"
      ]
    },
    {
      "cell_type": "code",
      "metadata": {
        "id": "PE_GFGqMnlMC",
        "colab": {
          "base_uri": "https://localhost:8080/"
        },
        "outputId": "472b9308-6ee1-4161-b429-5b13e686ffe4"
      },
      "source": [
        "!pip install SpeechRecognition wavio ffmpeg-python gtts\n",
        "!mkdir sounds\n",
        "!wget https://raw.githubusercontent.com/myprogrammerpersonality/Voice_Recognition/master/Template.csv"
      ],
      "execution_count": 1,
      "outputs": [
        {
          "output_type": "stream",
          "name": "stdout",
          "text": [
            "Collecting SpeechRecognition\n",
            "  Downloading SpeechRecognition-3.10.0-py2.py3-none-any.whl (32.8 MB)\n",
            "\u001b[2K     \u001b[90m━━━━━━━━━━━━━━━━━━━━━━━━━━━━━━━━━━━━━━━━\u001b[0m \u001b[32m32.8/32.8 MB\u001b[0m \u001b[31m48.3 MB/s\u001b[0m eta \u001b[36m0:00:00\u001b[0m\n",
            "\u001b[?25hCollecting wavio\n",
            "  Downloading wavio-0.0.8-py3-none-any.whl (9.4 kB)\n",
            "Collecting ffmpeg-python\n",
            "  Downloading ffmpeg_python-0.2.0-py3-none-any.whl (25 kB)\n",
            "Collecting gtts\n",
            "  Downloading gTTS-2.4.0-py3-none-any.whl (29 kB)\n",
            "Requirement already satisfied: requests>=2.26.0 in /usr/local/lib/python3.10/dist-packages (from SpeechRecognition) (2.31.0)\n",
            "Requirement already satisfied: numpy>=1.19.0 in /usr/local/lib/python3.10/dist-packages (from wavio) (1.23.5)\n",
            "Requirement already satisfied: future in /usr/local/lib/python3.10/dist-packages (from ffmpeg-python) (0.18.3)\n",
            "Requirement already satisfied: click<8.2,>=7.1 in /usr/local/lib/python3.10/dist-packages (from gtts) (8.1.7)\n",
            "Requirement already satisfied: charset-normalizer<4,>=2 in /usr/local/lib/python3.10/dist-packages (from requests>=2.26.0->SpeechRecognition) (3.3.0)\n",
            "Requirement already satisfied: idna<4,>=2.5 in /usr/local/lib/python3.10/dist-packages (from requests>=2.26.0->SpeechRecognition) (3.4)\n",
            "Requirement already satisfied: urllib3<3,>=1.21.1 in /usr/local/lib/python3.10/dist-packages (from requests>=2.26.0->SpeechRecognition) (2.0.7)\n",
            "Requirement already satisfied: certifi>=2017.4.17 in /usr/local/lib/python3.10/dist-packages (from requests>=2.26.0->SpeechRecognition) (2023.7.22)\n",
            "Installing collected packages: wavio, ffmpeg-python, SpeechRecognition, gtts\n",
            "Successfully installed SpeechRecognition-3.10.0 ffmpeg-python-0.2.0 gtts-2.4.0 wavio-0.0.8\n",
            "--2023-10-21 15:31:58--  https://raw.githubusercontent.com/myprogrammerpersonality/Voice_Recognition/master/Template.csv\n",
            "Resolving raw.githubusercontent.com (raw.githubusercontent.com)... 185.199.108.133, 185.199.109.133, 185.199.110.133, ...\n",
            "Connecting to raw.githubusercontent.com (raw.githubusercontent.com)|185.199.108.133|:443... connected.\n",
            "HTTP request sent, awaiting response... 200 OK\n",
            "Length: 267 [text/plain]\n",
            "Saving to: ‘Template.csv’\n",
            "\n",
            "Template.csv        100%[===================>]     267  --.-KB/s    in 0s      \n",
            "\n",
            "2023-10-21 15:31:58 (10.1 MB/s) - ‘Template.csv’ saved [267/267]\n",
            "\n"
          ]
        }
      ]
    },
    {
      "cell_type": "markdown",
      "metadata": {
        "id": "3Aoz9iOqm13b"
      },
      "source": [
        "## Import Packages and Define Functions"
      ]
    },
    {
      "cell_type": "code",
      "metadata": {
        "id": "JTN2053injmU"
      },
      "source": [
        "import scipy\n",
        "from scipy.io.wavfile import read as wav_read\n",
        "import io\n",
        "from IPython.display import HTML, Audio, clear_output\n",
        "from google.colab.output import eval_js\n",
        "from base64 import b64decode\n",
        "import numpy as np\n",
        "import ffmpeg\n",
        "import IPython.display as ipd\n",
        "from IPython.display import Javascript\n",
        "import speech_recognition as sr\n",
        "import matplotlib.pyplot as plt\n",
        "import time\n",
        "import wavio\n",
        "import pandas as pd\n",
        "from gtts import gTTS #Import Google Text to Speech\n",
        "\n",
        "RECORD = \"\"\"\n",
        "const sleep  = time => new Promise(resolve => setTimeout(resolve, time))\n",
        "const b2text = blob => new Promise(resolve => {\n",
        "  const reader = new FileReader()\n",
        "  reader.onloadend = e => resolve(e.srcElement.result)\n",
        "  reader.readAsDataURL(blob)\n",
        "})\n",
        "var record = time => new Promise(async resolve => {\n",
        "  stream = await navigator.mediaDevices.getUserMedia({ audio: true })\n",
        "  recorder = new MediaRecorder(stream)\n",
        "  chunks = []\n",
        "  recorder.ondataavailable = e => chunks.push(e.data)\n",
        "  recorder.start()\n",
        "  await sleep(time)\n",
        "  recorder.onstop = async ()=>{\n",
        "    blob = new Blob(chunks)\n",
        "    text = await b2text(blob)\n",
        "    resolve(text)\n",
        "  }\n",
        "  recorder.stop()\n",
        "})\n",
        "\"\"\"\n",
        "output_html = \"\"\"<style>\n",
        "    fieldset {{\n",
        "    font-family: sans-serif;\n",
        "    border: 5px solid #1F497D;\n",
        "    background: #ddd;\n",
        "    border-radius: 5px;\n",
        "    padding: 15px;\n",
        "}}\n",
        "\n",
        "fieldset legend {{\n",
        "    background: #1F497D;\n",
        "    color: #fff;\n",
        "    padding: 5px 10px ;\n",
        "    font-size: 32px;\n",
        "    border-radius: 10px;\n",
        "    box-shadow: 0 0 0 5px #ddd;\n",
        "    margin-left: 20px;\n",
        "}}\n",
        "</style>\n",
        "\n",
        "<section style=\"margin: 15px;\">\n",
        "<fieldset style=\"min-height:100px;\">\n",
        "<legend><b> {} </b> </legend>\n",
        "<label> <h1 style=\"font-size: 80px;float: top;\">{} ==> Sample {}</h1><br/> </label>\n",
        "</fieldset>\"\"\"\n",
        "\n",
        "def record(sec=3, file_name = 'temp.wav', verbose=False):\n",
        "    if verbose: print('Start Recording :')\n",
        "    display(Javascript(RECORD))\n",
        "    s = eval_js('record(%d)' % (sec*1000))\n",
        "    b = b64decode(s.split(',')[1])\n",
        "\n",
        "    process = (ffmpeg\n",
        "        .input('pipe:0')\n",
        "        .output('pipe:1', format='wav')\n",
        "        .run_async(pipe_stdin=True, pipe_stdout=True, pipe_stderr=True, quiet=True, overwrite_output=True))\n",
        "    output, err = process.communicate(input=b)\n",
        "\n",
        "    riff_chunk_size = len(output) - 8\n",
        "    # Break up the chunk size into four bytes, held in b.\n",
        "    q = riff_chunk_size\n",
        "    b = []\n",
        "    for i in range(4):\n",
        "        q, r = divmod(q, 256)\n",
        "        b.append(r)\n",
        "\n",
        "    # Replace bytes 4:8 in proc.stdout with the actual size of the RIFF chunk.\n",
        "    riff = output[:4] + bytes(b) + output[8:]\n",
        "\n",
        "    sr, audio = wav_read(io.BytesIO(riff))\n",
        "\n",
        "    if verbose: print('Recording Finished')\n",
        "    return audio, sr\n",
        "\n",
        "def hearing(step_sec = 5, key_word = 'next', stop_word = 'skip', verbose = False):\n",
        "    key = key_word.lower()\n",
        "    key_stop = stop_word.lower()\n",
        "    num = 0\n",
        "    while True:\n",
        "        num += 1\n",
        "        if verbose: print(f'Round{num}')\n",
        "\n",
        "        # Part 1: Recording\n",
        "        t1 = time.time()\n",
        "        audio, sound_rate = record(sec=step_sec, verbose=False)\n",
        "\n",
        "        # Part 2: Saving Audio File\n",
        "        t2 = time.time()\n",
        "        wavio.write('sound.wav', audio, sound_rate)\n",
        "\n",
        "        # Part 3: Try to Recognize and Check for Key_Word\n",
        "        t3 = time.time()\n",
        "        r = sr.Recognizer()\n",
        "        with sr.WavFile('sound.wav') as source:\n",
        "            audio = r.record(source)\n",
        "        try:\n",
        "            text = r.recognize_google(audio)\n",
        "            text = text.lower()\n",
        "            if verbose >= 2: print(f'You Said :{text}')\n",
        "            if key in text:\n",
        "                return 1\n",
        "            if key_stop in text:\n",
        "                return 0\n",
        "        except:\n",
        "            pass\n",
        "\n",
        "        if verbose:print(f'Part 1 {t2-t1}')\n",
        "        if verbose:print(f'Part 2 {t3-t2}')\n",
        "        if verbose:print(f'Part 3 {time.time()-t3}')"
      ],
      "execution_count": 2,
      "outputs": []
    },
    {
      "cell_type": "markdown",
      "metadata": {
        "id": "b8iOQBUYnA5z"
      },
      "source": [
        "## Text to Speech"
      ]
    },
    {
      "cell_type": "code",
      "metadata": {
        "id": "fk4b9fLZeH2H",
        "colab": {
          "base_uri": "https://localhost:8080/"
        },
        "outputId": "b59bcc66-4c62-47c3-e2af-6d62be0c3fa7"
      },
      "source": [
        "data = pd.read_csv('Template.csv')\n",
        "columns = list(range(1, len(data)+1))\n",
        "metabolite = data.columns\n",
        "data = pd.DataFrame(columns=columns, data=data.values.T)\n",
        "data['Metabolite'] = metabolite\n",
        "data = data[['Metabolite']+columns]\n",
        "\n",
        "main_dict = {}\n",
        "for name in data['Metabolite']:\n",
        "    vols = list(data[data['Metabolite']==name].iloc[:,1:].values[0])\n",
        "    main_dict[name] = [vols, sorted(range(len(vols)), key=lambda k: vols[k])]\n",
        "\n",
        "for name in main_dict.keys():\n",
        "    print(f'reading {name} ...')\n",
        "    tts = gTTS('Start Aliquoting {}'.format(name)) #Provide the string to convert to speech\n",
        "    tts.save('sounds/{}.wav'.format(name)) #save the string converted to speech as a .wav file\n",
        "    for i, vol in enumerate(main_dict[name][0]):\n",
        "        tts = gTTS('{} in Sample {}'.format(vol, i+1))\n",
        "        tts.save('sounds/{}_{}.wav'.format(name, i))"
      ],
      "execution_count": 7,
      "outputs": [
        {
          "output_type": "stream",
          "name": "stdout",
          "text": [
            "reading Water ...\n",
            "reading PEG ...\n"
          ]
        }
      ]
    },
    {
      "cell_type": "markdown",
      "metadata": {
        "id": "ZE0QK82anFxM"
      },
      "source": [
        "## Main Part"
      ]
    },
    {
      "cell_type": "code",
      "metadata": {
        "id": "eKtnGBQKgHY-",
        "colab": {
          "base_uri": "https://localhost:8080/",
          "height": 1000
        },
        "outputId": "c3de9c04-5772-4edf-c23f-e05d44cda4df"
      },
      "source": [
        "# sorted version within each metabolite\n",
        "for name in main_dict.keys():\n",
        "    print('Start Aliquoting ', name)\n",
        "    display(Audio('sounds/{}.wav'.format(name), autoplay=True))\n",
        "    display(HTML(output_html.format(name, \"#\", \"#\")))\n",
        "    time.sleep(4)\n",
        "    clear_output(wait=True)\n",
        "    time.sleep(2)\n",
        "    for i in range(len(main_dict[name][0])):\n",
        "        display(Audio('sounds/{}_{}.wav'.format(name, main_dict[name][1][i]), autoplay=True))\n",
        "        display(HTML(output_html.format(name, main_dict[name][0][main_dict[name][1][i]], main_dict[name][1][i]+1)))\n",
        "        if hearing(step_sec=5, key_word='next', stop_word='skip', verbose=2):\n",
        "            pass\n",
        "        else:\n",
        "            clear_output(wait=True)\n",
        "            break\n",
        "        clear_output(wait=True)"
      ],
      "execution_count": 8,
      "outputs": [
        {
          "output_type": "display_data",
          "data": {
            "text/plain": [
              "<IPython.lib.display.Audio object>"
            ],
            "text/html": [
              "\n",
              "                <audio  controls=\"controls\" autoplay=\"autoplay\">\n",
              "                    <source src=\"data:audio/x-wav;base64,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\" type=\"audio/x-wav\" />\n",
              "                    Your browser does not support the audio element.\n",
              "                </audio>\n",
              "              "
            ]
          },
          "metadata": {}
        },
        {
          "output_type": "display_data",
          "data": {
            "text/plain": [
              "<IPython.core.display.HTML object>"
            ],
            "text/html": [
              "<style>\n",
              "    fieldset {\n",
              "    font-family: sans-serif;\n",
              "    border: 5px solid #1F497D;\n",
              "    background: #ddd;\n",
              "    border-radius: 5px;\n",
              "    padding: 15px;\n",
              "}\n",
              "\n",
              "fieldset legend {\n",
              "    background: #1F497D;\n",
              "    color: #fff;\n",
              "    padding: 5px 10px ;\n",
              "    font-size: 32px;\n",
              "    border-radius: 10px;\n",
              "    box-shadow: 0 0 0 5px #ddd;\n",
              "    margin-left: 20px;\n",
              "}\n",
              "</style>\n",
              "\n",
              "<section style=\"margin: 15px;\">\n",
              "<fieldset style=\"min-height:100px;\">\n",
              "<legend><b> Water </b> </legend>\n",
              "<label> <h1 style=\"font-size: 80px;float: top;\">0.8 ==> Sample 20</h1><br/> </label>\n",
              "</fieldset>"
            ]
          },
          "metadata": {}
        },
        {
          "output_type": "stream",
          "name": "stdout",
          "text": [
            "Round1\n"
          ]
        },
        {
          "output_type": "display_data",
          "data": {
            "text/plain": [
              "<IPython.core.display.Javascript object>"
            ],
            "application/javascript": [
              "\n",
              "const sleep  = time => new Promise(resolve => setTimeout(resolve, time))\n",
              "const b2text = blob => new Promise(resolve => {\n",
              "  const reader = new FileReader()\n",
              "  reader.onloadend = e => resolve(e.srcElement.result)\n",
              "  reader.readAsDataURL(blob)\n",
              "})\n",
              "var record = time => new Promise(async resolve => {\n",
              "  stream = await navigator.mediaDevices.getUserMedia({ audio: true })\n",
              "  recorder = new MediaRecorder(stream)\n",
              "  chunks = []\n",
              "  recorder.ondataavailable = e => chunks.push(e.data)\n",
              "  recorder.start()\n",
              "  await sleep(time)\n",
              "  recorder.onstop = async ()=>{\n",
              "    blob = new Blob(chunks)\n",
              "    text = await b2text(blob)\n",
              "    resolve(text)\n",
              "  }\n",
              "  recorder.stop()\n",
              "})\n"
            ]
          },
          "metadata": {}
        },
        {
          "output_type": "stream",
          "name": "stdout",
          "text": [
            "Part 1 6.693026542663574\n",
            "Part 2 0.0014030933380126953\n",
            "Part 3 0.45320653915405273\n",
            "Round2\n"
          ]
        },
        {
          "output_type": "display_data",
          "data": {
            "text/plain": [
              "<IPython.core.display.Javascript object>"
            ],
            "application/javascript": [
              "\n",
              "const sleep  = time => new Promise(resolve => setTimeout(resolve, time))\n",
              "const b2text = blob => new Promise(resolve => {\n",
              "  const reader = new FileReader()\n",
              "  reader.onloadend = e => resolve(e.srcElement.result)\n",
              "  reader.readAsDataURL(blob)\n",
              "})\n",
              "var record = time => new Promise(async resolve => {\n",
              "  stream = await navigator.mediaDevices.getUserMedia({ audio: true })\n",
              "  recorder = new MediaRecorder(stream)\n",
              "  chunks = []\n",
              "  recorder.ondataavailable = e => chunks.push(e.data)\n",
              "  recorder.start()\n",
              "  await sleep(time)\n",
              "  recorder.onstop = async ()=>{\n",
              "    blob = new Blob(chunks)\n",
              "    text = await b2text(blob)\n",
              "    resolve(text)\n",
              "  }\n",
              "  recorder.stop()\n",
              "})\n"
            ]
          },
          "metadata": {}
        },
        {
          "output_type": "stream",
          "name": "stdout",
          "text": [
            "Part 1 6.657322406768799\n",
            "Part 2 0.0011022090911865234\n",
            "Part 3 0.32698726654052734\n",
            "Round3\n"
          ]
        },
        {
          "output_type": "display_data",
          "data": {
            "text/plain": [
              "<IPython.core.display.Javascript object>"
            ],
            "application/javascript": [
              "\n",
              "const sleep  = time => new Promise(resolve => setTimeout(resolve, time))\n",
              "const b2text = blob => new Promise(resolve => {\n",
              "  const reader = new FileReader()\n",
              "  reader.onloadend = e => resolve(e.srcElement.result)\n",
              "  reader.readAsDataURL(blob)\n",
              "})\n",
              "var record = time => new Promise(async resolve => {\n",
              "  stream = await navigator.mediaDevices.getUserMedia({ audio: true })\n",
              "  recorder = new MediaRecorder(stream)\n",
              "  chunks = []\n",
              "  recorder.ondataavailable = e => chunks.push(e.data)\n",
              "  recorder.start()\n",
              "  await sleep(time)\n",
              "  recorder.onstop = async ()=>{\n",
              "    blob = new Blob(chunks)\n",
              "    text = await b2text(blob)\n",
              "    resolve(text)\n",
              "  }\n",
              "  recorder.stop()\n",
              "})\n"
            ]
          },
          "metadata": {}
        },
        {
          "output_type": "stream",
          "name": "stdout",
          "text": [
            "Part 1 6.605336427688599\n",
            "Part 2 0.0048220157623291016\n",
            "Part 3 0.2468724250793457\n",
            "Round4\n"
          ]
        },
        {
          "output_type": "display_data",
          "data": {
            "text/plain": [
              "<IPython.core.display.Javascript object>"
            ],
            "application/javascript": [
              "\n",
              "const sleep  = time => new Promise(resolve => setTimeout(resolve, time))\n",
              "const b2text = blob => new Promise(resolve => {\n",
              "  const reader = new FileReader()\n",
              "  reader.onloadend = e => resolve(e.srcElement.result)\n",
              "  reader.readAsDataURL(blob)\n",
              "})\n",
              "var record = time => new Promise(async resolve => {\n",
              "  stream = await navigator.mediaDevices.getUserMedia({ audio: true })\n",
              "  recorder = new MediaRecorder(stream)\n",
              "  chunks = []\n",
              "  recorder.ondataavailable = e => chunks.push(e.data)\n",
              "  recorder.start()\n",
              "  await sleep(time)\n",
              "  recorder.onstop = async ()=>{\n",
              "    blob = new Blob(chunks)\n",
              "    text = await b2text(blob)\n",
              "    resolve(text)\n",
              "  }\n",
              "  recorder.stop()\n",
              "})\n"
            ]
          },
          "metadata": {}
        },
        {
          "output_type": "stream",
          "name": "stdout",
          "text": [
            "Part 1 6.334430456161499\n",
            "Part 2 0.001316070556640625\n",
            "Part 3 0.22466421127319336\n",
            "Round5\n"
          ]
        },
        {
          "output_type": "display_data",
          "data": {
            "text/plain": [
              "<IPython.core.display.Javascript object>"
            ],
            "application/javascript": [
              "\n",
              "const sleep  = time => new Promise(resolve => setTimeout(resolve, time))\n",
              "const b2text = blob => new Promise(resolve => {\n",
              "  const reader = new FileReader()\n",
              "  reader.onloadend = e => resolve(e.srcElement.result)\n",
              "  reader.readAsDataURL(blob)\n",
              "})\n",
              "var record = time => new Promise(async resolve => {\n",
              "  stream = await navigator.mediaDevices.getUserMedia({ audio: true })\n",
              "  recorder = new MediaRecorder(stream)\n",
              "  chunks = []\n",
              "  recorder.ondataavailable = e => chunks.push(e.data)\n",
              "  recorder.start()\n",
              "  await sleep(time)\n",
              "  recorder.onstop = async ()=>{\n",
              "    blob = new Blob(chunks)\n",
              "    text = await b2text(blob)\n",
              "    resolve(text)\n",
              "  }\n",
              "  recorder.stop()\n",
              "})\n"
            ]
          },
          "metadata": {}
        },
        {
          "output_type": "stream",
          "name": "stdout",
          "text": [
            "Part 1 6.3170998096466064\n",
            "Part 2 0.0011539459228515625\n",
            "Part 3 0.5236673355102539\n",
            "Round6\n"
          ]
        },
        {
          "output_type": "display_data",
          "data": {
            "text/plain": [
              "<IPython.core.display.Javascript object>"
            ],
            "application/javascript": [
              "\n",
              "const sleep  = time => new Promise(resolve => setTimeout(resolve, time))\n",
              "const b2text = blob => new Promise(resolve => {\n",
              "  const reader = new FileReader()\n",
              "  reader.onloadend = e => resolve(e.srcElement.result)\n",
              "  reader.readAsDataURL(blob)\n",
              "})\n",
              "var record = time => new Promise(async resolve => {\n",
              "  stream = await navigator.mediaDevices.getUserMedia({ audio: true })\n",
              "  recorder = new MediaRecorder(stream)\n",
              "  chunks = []\n",
              "  recorder.ondataavailable = e => chunks.push(e.data)\n",
              "  recorder.start()\n",
              "  await sleep(time)\n",
              "  recorder.onstop = async ()=>{\n",
              "    blob = new Blob(chunks)\n",
              "    text = await b2text(blob)\n",
              "    resolve(text)\n",
              "  }\n",
              "  recorder.stop()\n",
              "})\n"
            ]
          },
          "metadata": {}
        },
        {
          "output_type": "error",
          "ename": "KeyboardInterrupt",
          "evalue": "ignored",
          "traceback": [
            "\u001b[0;31m---------------------------------------------------------------------------\u001b[0m",
            "\u001b[0;31mKeyboardInterrupt\u001b[0m                         Traceback (most recent call last)",
            "\u001b[0;32m<ipython-input-8-6b0656fb002f>\u001b[0m in \u001b[0;36m<cell line: 2>\u001b[0;34m()\u001b[0m\n\u001b[1;32m     10\u001b[0m         \u001b[0mdisplay\u001b[0m\u001b[0;34m(\u001b[0m\u001b[0mAudio\u001b[0m\u001b[0;34m(\u001b[0m\u001b[0;34m'sounds/{}_{}.wav'\u001b[0m\u001b[0;34m.\u001b[0m\u001b[0mformat\u001b[0m\u001b[0;34m(\u001b[0m\u001b[0mname\u001b[0m\u001b[0;34m,\u001b[0m \u001b[0mmain_dict\u001b[0m\u001b[0;34m[\u001b[0m\u001b[0mname\u001b[0m\u001b[0;34m]\u001b[0m\u001b[0;34m[\u001b[0m\u001b[0;36m1\u001b[0m\u001b[0;34m]\u001b[0m\u001b[0;34m[\u001b[0m\u001b[0mi\u001b[0m\u001b[0;34m]\u001b[0m\u001b[0;34m)\u001b[0m\u001b[0;34m,\u001b[0m \u001b[0mautoplay\u001b[0m\u001b[0;34m=\u001b[0m\u001b[0;32mTrue\u001b[0m\u001b[0;34m)\u001b[0m\u001b[0;34m)\u001b[0m\u001b[0;34m\u001b[0m\u001b[0;34m\u001b[0m\u001b[0m\n\u001b[1;32m     11\u001b[0m         \u001b[0mdisplay\u001b[0m\u001b[0;34m(\u001b[0m\u001b[0mHTML\u001b[0m\u001b[0;34m(\u001b[0m\u001b[0moutput_html\u001b[0m\u001b[0;34m.\u001b[0m\u001b[0mformat\u001b[0m\u001b[0;34m(\u001b[0m\u001b[0mname\u001b[0m\u001b[0;34m,\u001b[0m \u001b[0mmain_dict\u001b[0m\u001b[0;34m[\u001b[0m\u001b[0mname\u001b[0m\u001b[0;34m]\u001b[0m\u001b[0;34m[\u001b[0m\u001b[0;36m0\u001b[0m\u001b[0;34m]\u001b[0m\u001b[0;34m[\u001b[0m\u001b[0mmain_dict\u001b[0m\u001b[0;34m[\u001b[0m\u001b[0mname\u001b[0m\u001b[0;34m]\u001b[0m\u001b[0;34m[\u001b[0m\u001b[0;36m1\u001b[0m\u001b[0;34m]\u001b[0m\u001b[0;34m[\u001b[0m\u001b[0mi\u001b[0m\u001b[0;34m]\u001b[0m\u001b[0;34m]\u001b[0m\u001b[0;34m,\u001b[0m \u001b[0mmain_dict\u001b[0m\u001b[0;34m[\u001b[0m\u001b[0mname\u001b[0m\u001b[0;34m]\u001b[0m\u001b[0;34m[\u001b[0m\u001b[0;36m1\u001b[0m\u001b[0;34m]\u001b[0m\u001b[0;34m[\u001b[0m\u001b[0mi\u001b[0m\u001b[0;34m]\u001b[0m\u001b[0;34m+\u001b[0m\u001b[0;36m1\u001b[0m\u001b[0;34m)\u001b[0m\u001b[0;34m)\u001b[0m\u001b[0;34m)\u001b[0m\u001b[0;34m\u001b[0m\u001b[0;34m\u001b[0m\u001b[0m\n\u001b[0;32m---> 12\u001b[0;31m         \u001b[0;32mif\u001b[0m \u001b[0mhearing\u001b[0m\u001b[0;34m(\u001b[0m\u001b[0mstep_sec\u001b[0m\u001b[0;34m=\u001b[0m\u001b[0;36m5\u001b[0m\u001b[0;34m,\u001b[0m \u001b[0mkey_word\u001b[0m\u001b[0;34m=\u001b[0m\u001b[0;34m'next'\u001b[0m\u001b[0;34m,\u001b[0m \u001b[0mstop_word\u001b[0m\u001b[0;34m=\u001b[0m\u001b[0;34m'stop'\u001b[0m\u001b[0;34m,\u001b[0m \u001b[0mverbose\u001b[0m\u001b[0;34m=\u001b[0m\u001b[0;36m2\u001b[0m\u001b[0;34m)\u001b[0m\u001b[0;34m:\u001b[0m\u001b[0;34m\u001b[0m\u001b[0;34m\u001b[0m\u001b[0m\n\u001b[0m\u001b[1;32m     13\u001b[0m             \u001b[0;32mpass\u001b[0m\u001b[0;34m\u001b[0m\u001b[0;34m\u001b[0m\u001b[0m\n\u001b[1;32m     14\u001b[0m         \u001b[0;32melse\u001b[0m\u001b[0;34m:\u001b[0m\u001b[0;34m\u001b[0m\u001b[0;34m\u001b[0m\u001b[0m\n",
            "\u001b[0;32m<ipython-input-2-0ba2a0cbea46>\u001b[0m in \u001b[0;36mhearing\u001b[0;34m(step_sec, key_word, stop_word, verbose)\u001b[0m\n\u001b[1;32m    102\u001b[0m         \u001b[0;31m# Part 1: Recording\u001b[0m\u001b[0;34m\u001b[0m\u001b[0;34m\u001b[0m\u001b[0m\n\u001b[1;32m    103\u001b[0m         \u001b[0mt1\u001b[0m \u001b[0;34m=\u001b[0m \u001b[0mtime\u001b[0m\u001b[0;34m.\u001b[0m\u001b[0mtime\u001b[0m\u001b[0;34m(\u001b[0m\u001b[0;34m)\u001b[0m\u001b[0;34m\u001b[0m\u001b[0;34m\u001b[0m\u001b[0m\n\u001b[0;32m--> 104\u001b[0;31m         \u001b[0maudio\u001b[0m\u001b[0;34m,\u001b[0m \u001b[0msound_rate\u001b[0m \u001b[0;34m=\u001b[0m \u001b[0mrecord\u001b[0m\u001b[0;34m(\u001b[0m\u001b[0msec\u001b[0m\u001b[0;34m=\u001b[0m\u001b[0mstep_sec\u001b[0m\u001b[0;34m,\u001b[0m \u001b[0mverbose\u001b[0m\u001b[0;34m=\u001b[0m\u001b[0;32mFalse\u001b[0m\u001b[0;34m)\u001b[0m\u001b[0;34m\u001b[0m\u001b[0;34m\u001b[0m\u001b[0m\n\u001b[0m\u001b[1;32m    105\u001b[0m \u001b[0;34m\u001b[0m\u001b[0m\n\u001b[1;32m    106\u001b[0m         \u001b[0;31m# Part 2: Saving Audio File\u001b[0m\u001b[0;34m\u001b[0m\u001b[0;34m\u001b[0m\u001b[0m\n",
            "\u001b[0;32m<ipython-input-2-0ba2a0cbea46>\u001b[0m in \u001b[0;36mrecord\u001b[0;34m(sec, file_name, verbose)\u001b[0m\n\u001b[1;32m     67\u001b[0m     \u001b[0;32mif\u001b[0m \u001b[0mverbose\u001b[0m\u001b[0;34m:\u001b[0m \u001b[0mprint\u001b[0m\u001b[0;34m(\u001b[0m\u001b[0;34m'Start Recording :'\u001b[0m\u001b[0;34m)\u001b[0m\u001b[0;34m\u001b[0m\u001b[0;34m\u001b[0m\u001b[0m\n\u001b[1;32m     68\u001b[0m     \u001b[0mdisplay\u001b[0m\u001b[0;34m(\u001b[0m\u001b[0mJavascript\u001b[0m\u001b[0;34m(\u001b[0m\u001b[0mRECORD\u001b[0m\u001b[0;34m)\u001b[0m\u001b[0;34m)\u001b[0m\u001b[0;34m\u001b[0m\u001b[0;34m\u001b[0m\u001b[0m\n\u001b[0;32m---> 69\u001b[0;31m     \u001b[0ms\u001b[0m \u001b[0;34m=\u001b[0m \u001b[0meval_js\u001b[0m\u001b[0;34m(\u001b[0m\u001b[0;34m'record(%d)'\u001b[0m \u001b[0;34m%\u001b[0m \u001b[0;34m(\u001b[0m\u001b[0msec\u001b[0m\u001b[0;34m*\u001b[0m\u001b[0;36m1000\u001b[0m\u001b[0;34m)\u001b[0m\u001b[0;34m)\u001b[0m\u001b[0;34m\u001b[0m\u001b[0;34m\u001b[0m\u001b[0m\n\u001b[0m\u001b[1;32m     70\u001b[0m     \u001b[0mb\u001b[0m \u001b[0;34m=\u001b[0m \u001b[0mb64decode\u001b[0m\u001b[0;34m(\u001b[0m\u001b[0ms\u001b[0m\u001b[0;34m.\u001b[0m\u001b[0msplit\u001b[0m\u001b[0;34m(\u001b[0m\u001b[0;34m','\u001b[0m\u001b[0;34m)\u001b[0m\u001b[0;34m[\u001b[0m\u001b[0;36m1\u001b[0m\u001b[0;34m]\u001b[0m\u001b[0;34m)\u001b[0m\u001b[0;34m\u001b[0m\u001b[0;34m\u001b[0m\u001b[0m\n\u001b[1;32m     71\u001b[0m \u001b[0;34m\u001b[0m\u001b[0m\n",
            "\u001b[0;32m/usr/local/lib/python3.10/dist-packages/google/colab/output/_js.py\u001b[0m in \u001b[0;36meval_js\u001b[0;34m(script, ignore_result, timeout_sec)\u001b[0m\n\u001b[1;32m     38\u001b[0m   \u001b[0;32mif\u001b[0m \u001b[0mignore_result\u001b[0m\u001b[0;34m:\u001b[0m\u001b[0;34m\u001b[0m\u001b[0;34m\u001b[0m\u001b[0m\n\u001b[1;32m     39\u001b[0m     \u001b[0;32mreturn\u001b[0m\u001b[0;34m\u001b[0m\u001b[0;34m\u001b[0m\u001b[0m\n\u001b[0;32m---> 40\u001b[0;31m   \u001b[0;32mreturn\u001b[0m \u001b[0m_message\u001b[0m\u001b[0;34m.\u001b[0m\u001b[0mread_reply_from_input\u001b[0m\u001b[0;34m(\u001b[0m\u001b[0mrequest_id\u001b[0m\u001b[0;34m,\u001b[0m \u001b[0mtimeout_sec\u001b[0m\u001b[0;34m)\u001b[0m\u001b[0;34m\u001b[0m\u001b[0;34m\u001b[0m\u001b[0m\n\u001b[0m\u001b[1;32m     41\u001b[0m \u001b[0;34m\u001b[0m\u001b[0m\n\u001b[1;32m     42\u001b[0m \u001b[0;34m\u001b[0m\u001b[0m\n",
            "\u001b[0;32m/usr/local/lib/python3.10/dist-packages/google/colab/_message.py\u001b[0m in \u001b[0;36mread_reply_from_input\u001b[0;34m(message_id, timeout_sec)\u001b[0m\n\u001b[1;32m     94\u001b[0m     \u001b[0mreply\u001b[0m \u001b[0;34m=\u001b[0m \u001b[0m_read_next_input_message\u001b[0m\u001b[0;34m(\u001b[0m\u001b[0;34m)\u001b[0m\u001b[0;34m\u001b[0m\u001b[0;34m\u001b[0m\u001b[0m\n\u001b[1;32m     95\u001b[0m     \u001b[0;32mif\u001b[0m \u001b[0mreply\u001b[0m \u001b[0;34m==\u001b[0m \u001b[0m_NOT_READY\u001b[0m \u001b[0;32mor\u001b[0m \u001b[0;32mnot\u001b[0m \u001b[0misinstance\u001b[0m\u001b[0;34m(\u001b[0m\u001b[0mreply\u001b[0m\u001b[0;34m,\u001b[0m \u001b[0mdict\u001b[0m\u001b[0;34m)\u001b[0m\u001b[0;34m:\u001b[0m\u001b[0;34m\u001b[0m\u001b[0;34m\u001b[0m\u001b[0m\n\u001b[0;32m---> 96\u001b[0;31m       \u001b[0mtime\u001b[0m\u001b[0;34m.\u001b[0m\u001b[0msleep\u001b[0m\u001b[0;34m(\u001b[0m\u001b[0;36m0.025\u001b[0m\u001b[0;34m)\u001b[0m\u001b[0;34m\u001b[0m\u001b[0;34m\u001b[0m\u001b[0m\n\u001b[0m\u001b[1;32m     97\u001b[0m       \u001b[0;32mcontinue\u001b[0m\u001b[0;34m\u001b[0m\u001b[0;34m\u001b[0m\u001b[0m\n\u001b[1;32m     98\u001b[0m     if (\n",
            "\u001b[0;31mKeyboardInterrupt\u001b[0m: "
          ]
        }
      ]
    }
  ]
}